{
 "cells": [
  {
   "cell_type": "code",
   "execution_count": 1,
   "metadata": {},
   "outputs": [
    {
     "data": {
      "text/plain": [
       "'2019-05-23 05:58:42'"
      ]
     },
     "execution_count": 1,
     "metadata": {},
     "output_type": "execute_result"
    }
   ],
   "source": [
    "##Overview\n",
    "##\n",
    "##Input:  yelp file business.json\n",
    "##output: ouryelpbusinesses.csv\n",
    "##filter: business in top n categories (5 was selected)\n",
    "##filter: only businesses in NV and AZ\n",
    "    \n",
    "\n",
    "## Import packages\n",
    "\n",
    "import pandas as pd\n",
    "import numpy as np\n",
    "import matplotlib.pyplot as plt\n",
    "import seaborn as sns\n",
    "import json\n",
    "import types\n",
    "import re\n",
    "#import ijson\n",
    "\n",
    "import os\n",
    "from datetime import datetime\n",
    "\n",
    "%matplotlib inline\n",
    "##\n",
    "\n",
    "datetime.now().strftime('%Y-%m-%d %H:%M:%S')"
   ]
  },
  {
   "cell_type": "code",
   "execution_count": 2,
   "metadata": {},
   "outputs": [],
   "source": [
    "# !pip install pyspark"
   ]
  },
  {
   "cell_type": "code",
   "execution_count": 3,
   "metadata": {},
   "outputs": [],
   "source": [
    "# !pip install ijson"
   ]
  },
  {
   "cell_type": "code",
   "execution_count": 4,
   "metadata": {},
   "outputs": [
    {
     "name": "stdout",
     "output_type": "stream",
     "text": [
      "Current Working Directory  c:\\Users\\Richpat\\Documents\\@syracuse coursework\\@IST 718 Big Data Analytics (Python)\\finalproject\n",
      "\n",
      "Files in directory ['.ipynb_checkpoints', '2016_Historical_Business_File_Layout.xlsx', 'b.2.1_41473_project_checkpoint_1_clean.pdf', 'bCatTall.csv', 'business.json', 'BusinessCategoryCount.csv', 'checkin.json', 'Dataset_Challenge_Dataset_Agreement.pdf', 'DBHArizona164RestaurantsHighRisk.csv', 'DBHArizona164RestaurantsLowGT9.csv', 'DBHArizona164RestaurantsLowLT10.csv', 'DBHArizona164RestaurantsMediumGT6.csv', 'DBHArizona164RestaurantsMediumLT7.csv', 'DBHArizona164RestaurantsNARisk.csv', 'DBHNevada164RestaurantsHighRisk.csv', 'DBHNevada164RestaurantsLowRisk.csv', 'DBHNevada164RestaurantsMediumRisk.csv', 'DBHNevada164RestaurantsNARisk.csv', 'DBHRestaurants.csv', 'DRT_IST718_FinalProject_concatDBH.rmd', 'DRT_IST718_FinalProject_ReadJSON.rmd', 'DRT_Thinking_draft.pptx', 'MakeOurYelpBusinesses.ipynb', 'ourbusinesses.csv', 'ourreviews.csv', 'Paterson_.Week5ProjectCheckIn.docx', 'photo.json', 'projectDatasets.xlsx', 'review.json', 'reviewdf101.csv', 'reviewdf101k.csv', 'reviewdf101n.csv', 'ReviewFilterTimer.xlsx', 'RichPat_001_read_yelp.ipynb', 'rs_marketline_advantage_2019517_1.xls', 'rs_marketline_advantage_2019517_2.xls', 'SparkSample.txt', 'tip.json', 'user.json', 'yelp-dataset-agreement.pdf', 'YelpDataDictionary.xlsx', 'yelp_dataset.tar', 'Yelp_Dataset_Challenge_Round_13.pdf', '~$DRT_Thinking_draft.pptx']\n",
      "\n",
      "\n",
      "{'system': {'commit': None, 'python': '3.6.7.final.0', 'python-bits': 64, 'OS': 'Windows', 'OS-release': '10', 'machine': 'AMD64', 'processor': 'Intel64 Family 6 Model 142 Stepping 10, GenuineIntel', 'byteorder': 'little', 'LC_ALL': 'None', 'LANG': 'None', 'LOCALE': 'None.None'}, 'dependencies': {'pandas': '0.24.2', 'pytest': '4.4.1', 'pip': '19.1', 'setuptools': '41.0.1', 'Cython': '0.29.7', 'numpy': '1.16.3', 'scipy': '1.2.1', 'pyarrow': None, 'xarray': None, 'IPython': '7.5.0', 'sphinx': '2.0.1', 'patsy': '0.5.1', 'dateutil': '2.8.0', 'pytz': '2019.1', 'blosc': None, 'bottleneck': None, 'tables': None, 'numexpr': None, 'feather': None, 'matplotlib': '3.0.3', 'openpyxl': '2.6.1', 'xlrd': '1.2.0', 'xlwt': '1.3.0', 'xlsxwriter': '1.1.7', 'lxml.etree': '4.3.3', 'bs4': '4.7.1', 'html5lib': '1.0.1', 'sqlalchemy': '1.3.2', 'pymysql': None, 'psycopg2': None, 'jinja2': '2.10.1', 's3fs': None, 'fastparquet': None, 'pandas_gbq': None, 'pandas_datareader': None, 'gcsfs': None}}\n",
      "\n",
      "Start date/time 2019-05-23 05:58:45\n"
     ]
    }
   ],
   "source": [
    "#setup environment\n",
    "import os\n",
    "cwd = os.getcwd()\n",
    "print(\"Current Working Directory \" , cwd)\n",
    "os.chdir(\"C:/Users/Richpat/Documents/@syracuse coursework/@IST 718 Big Data Analytics (Python)/finalproject\")\n",
    "print('\\nFiles in directory', os.listdir())\n",
    "print('\\n')\n",
    "pd.show_versions(as_json=True) # True to shorten/flatten output\n",
    "print ('\\nStart date/time', datetime.now().strftime('%Y-%m-%d %H:%M:%S'))"
   ]
  },
  {
   "cell_type": "code",
   "execution_count": 5,
   "metadata": {},
   "outputs": [],
   "source": [
    "def readJSONreturnLIST (fn, verbosity):\n",
    "\n",
    "    print ('Start readJSONreturnLIST for ', fn, 'at date/time', datetime.now().strftime('%Y-%m-%d %H:%M:%S'))\n",
    "    \n",
    "    with open(fn, encoding='utf-8') as json_file:      \n",
    "        data = json_file.readlines()\n",
    "        # this line below may take at least 8-10 minutes of processing for 4-5 million rows. It converts all strings in list to actual json objects. \n",
    "        data = list(map(json.loads, data)) \n",
    "        \n",
    "    print ('Type data', type(data), 'len data', len(data))\n",
    "        \n",
    "    print ('Start readJSONreturnLIST date/time', datetime.now().strftime('%Y-%m-%d %H:%M:%S'))\n",
    "\n",
    "    return (data)"
   ]
  },
  {
   "cell_type": "code",
   "execution_count": 6,
   "metadata": {},
   "outputs": [
    {
     "name": "stdout",
     "output_type": "stream",
     "text": [
      "Start date/time: 2019-05-23 05:58:45\n",
      "Start readJSONreturnLIST for  business.json at date/time 2019-05-23 05:58:45\n",
      "Type data <class 'list'> len data 192609\n",
      "Start readJSONreturnLIST date/time 2019-05-23 05:58:48\n",
      "End date/time: 2019-05-23 05:58:48\n"
     ]
    }
   ],
   "source": [
    "# read in full business.json files (excluding review.json - see later for that)\n",
    "\n",
    "print ('Start date/time:', datetime.now().strftime('%Y-%m-%d %H:%M:%S'))\n",
    "businesses=readJSONreturnLIST ('business.json', 2)\n",
    "print ('End date/time:', datetime.now().strftime('%Y-%m-%d %H:%M:%S'))"
   ]
  },
  {
   "cell_type": "code",
   "execution_count": 7,
   "metadata": {},
   "outputs": [
    {
     "name": "stdout",
     "output_type": "stream",
     "text": [
      "Date/time: 2019-05-23 05:58:48\n",
      "Sample of business data\n",
      "=======================\n",
      "{'business_id': '1SWheh84yJXfytovILXOAQ', 'name': 'Arizona Biltmore Golf Club', 'address': '2818 E Camino Acequia Drive', 'city': 'Phoenix', 'state': 'AZ', 'postal_code': '85016', 'latitude': 33.5221425, 'longitude': -112.0184807, 'stars': 3.0, 'review_count': 5, 'is_open': 0, 'attributes': {'GoodForKids': 'False'}, 'categories': 'Golf, Active Life', 'hours': None}\n",
      "Business ID 1SWheh84yJXfytovILXOAQ\n",
      "{\n",
      "    \"business_id\": \"1SWheh84yJXfytovILXOAQ\",\n",
      "    \"name\": \"Arizona Biltmore Golf Club\",\n",
      "    \"address\": \"2818 E Camino Acequia Drive\",\n",
      "    \"city\": \"Phoenix\",\n",
      "    \"state\": \"AZ\",\n",
      "    \"postal_code\": \"85016\",\n",
      "    \"latitude\": 33.5221425,\n",
      "    \"longitude\": -112.0184807,\n",
      "    \"stars\": 3.0,\n",
      "    \"review_count\": 5,\n",
      "    \"is_open\": 0,\n",
      "    \"attributes\": {\n",
      "        \"GoodForKids\": \"False\"\n",
      "    },\n",
      "    \"categories\": \"Golf, Active Life\",\n",
      "    \"hours\": null\n",
      "}\n",
      "Number of businesses counted: 192609\n",
      "Date/time: 2019-05-23 05:58:48\n"
     ]
    }
   ],
   "source": [
    "print ('Date/time:', datetime.now().strftime('%Y-%m-%d %H:%M:%S'))\n",
    "rNoBusinessesCnt=0\n",
    "print ('Sample of business data')\n",
    "print ('=======================')\n",
    "for business in businesses:\n",
    "    if rNoBusinessesCnt==0:\n",
    "        print (business)\n",
    "        print ('Business ID', business['business_id'])\n",
    "        print (json.dumps(business, indent=4))\n",
    "    rNoBusinessesCnt+=1\n",
    "print('Number of businesses counted:', rNoBusinessesCnt)\n",
    "print ('Date/time:', datetime.now().strftime('%Y-%m-%d %H:%M:%S'))"
   ]
  },
  {
   "cell_type": "code",
   "execution_count": 8,
   "metadata": {},
   "outputs": [
    {
     "name": "stdout",
     "output_type": "stream",
     "text": [
      "Date/time: 2019-05-23 05:58:48\n",
      "Date/time: 2019-05-23 05:58:49\n"
     ]
    }
   ],
   "source": [
    "#convert BUSINESS to DF\n",
    "print ('Date/time:', datetime.now().strftime('%Y-%m-%d %H:%M:%S'))\n",
    "businessDF=pd.DataFrame(businesses)\n",
    "print ('Date/time:', datetime.now().strftime('%Y-%m-%d %H:%M:%S'))"
   ]
  },
  {
   "cell_type": "code",
   "execution_count": 9,
   "metadata": {},
   "outputs": [
    {
     "name": "stdout",
     "output_type": "stream",
     "text": [
      "Chart count of business by state\n",
      "Date/time: 2019-05-23 05:58:49\n"
     ]
    },
    {
     "data": {
      "image/png": "[encoded data removed]",
      "text/plain": [
       "<Figure size 864x504 with 1 Axes>"
      ]
     },
     "metadata": {
      "needs_background": "light"
     },
     "output_type": "display_data"
    },
    {
     "name": "stdout",
     "output_type": "stream",
     "text": [
      "Date/time: 2019-05-23 05:58:50\n"
     ]
    }
   ],
   "source": [
    "# https://python-graph-gallery.com/10-barplot-with-number-of-observation/\n",
    "#Chart how many businesses are in each state\n",
    "\n",
    "print (\"Chart count of business by state\")\n",
    "print ('Date/time:', datetime.now().strftime('%Y-%m-%d %H:%M:%S'))\n",
    "\n",
    "#prep data for charting\n",
    "bState=pd.DataFrame(businessDF.groupby('state').count()['address'])\n",
    "bState.rename(columns={'address':'count'}, inplace=True)\n",
    "bState=bState.sort_values('count', ascending=False)\n",
    "bState['state']=bState.index.astype(str)\n",
    "bState['Label'] = bState['state']\n",
    "\n",
    "#prep labels\n",
    "bars=bState['Label']\n",
    "y_pos = np.arange(len(bars))\n",
    "height = round(bState['count'], 1) #show 3 decimals if we are choosing the top 20\n",
    "\n",
    "#bars\n",
    "plt.bar(y_pos, height)\n",
    "\n",
    "#xlabels, ylabels, title\n",
    "plt.xticks(y_pos, bars, color='blue', rotation=90)\n",
    "plt.yticks(color='blue')\n",
    "plt.title('Count of business by State')\n",
    "\n",
    "# Text on the top of each barplot\n",
    "for i in range(len(height)):\n",
    "    plt.text(x = (i)-0.5 , y = height[i]+0.1, s = str(height[i]) , size = 7)\n",
    "    \n",
    "#width of display \n",
    "fig = plt.gcf()\n",
    "fig.set_size_inches( 12, 7)\n",
    "\n",
    "# Show graphic\n",
    "plt.show()\n",
    "print ('Date/time:', datetime.now().strftime('%Y-%m-%d %H:%M:%S'))"
   ]
  },
  {
   "cell_type": "code",
   "execution_count": 10,
   "metadata": {},
   "outputs": [
    {
     "name": "stdout",
     "output_type": "stream",
     "text": [
      "\n",
      "Business category data sample pre-transformation\n",
      "0                                    Golf, Active Life\n",
      "1    Specialty Food, Restaurants, Dim Sum, Imported...\n",
      "Name: categories, dtype: object\n",
      "\n",
      "The total number of cells across all the business categories, post split is 7126533\n",
      "\n",
      "The total number of NULL cells across all the business categories, post split is 6338174\n",
      "\n",
      "The total number of categories counted across all the business categories, post split is 788359\n"
     ]
    }
   ],
   "source": [
    "print (\"\\nBusiness category data sample pre-transformation\")\n",
    "print (businessDF['categories'].head(2))\n",
    "\n",
    "#process 1: split categories into individual columns\n",
    "NC=40\n",
    "businessDF['categories']=businessDF.categories.str.lower()\n",
    "bCategories=businessDF.categories.str.split(',', n=NC, expand=True)\n",
    "\n",
    "#process 2: summarise each columns by category and count number of occurrence\n",
    "NC=bCategories.shape[1] #reduce number of columns if necessary\n",
    "NR=bCategories.shape[0] #number rows\n",
    "bCatTall=pd.DataFrame({\"CatCnt\":[0]})\n",
    "bCatTall = bCatTall.drop(bCatTall.index[0])\n",
    "cntNull=0\n",
    "for i in range(NC):\n",
    "    cntNull=cntNull+bCategories[i].isnull().sum()\n",
    "    bCatTmp=pd.DataFrame(bCategories.groupby(i)[i].count())\n",
    "    bCatTmp.columns = ['CatCnt']\n",
    "    bCatTall=bCatTall.append(bCatTmp)\n",
    "\n",
    "#process 3: summarise tall category df by unique category\n",
    "bCatTall.index=bCatTall.index.str.strip()\n",
    "bCatTall=bCatTall.groupby(bCatTall.index).sum()\n",
    "\n",
    "print (\"\\nThe total number of cells across all the business categories, post split is\", NR*NC)\n",
    "print (\"\\nThe total number of NULL cells across all the business categories, post split is\", cntNull)\n",
    "print (\"\\nThe total number of categories counted across all the business categories, post split is\", bCatTall['CatCnt'].sum())\n",
    "\n",
    "bCatTall=bCatTall.sort_values('CatCnt', ascending=False)\n",
    "bCatTall.to_csv('bCatTall.csv', header='column_names',encoding='utf-8')"
   ]
  },
  {
   "cell_type": "code",
   "execution_count": 11,
   "metadata": {},
   "outputs": [
    {
     "name": "stdout",
     "output_type": "stream",
     "text": [
      "Count of Businesses in Category   (1300, 1)\n",
      "Date/time: 2019-05-23 05:58:53\n"
     ]
    },
    {
     "name": "stderr",
     "output_type": "stream",
     "text": [
      "C:\\Users\\Richpat\\Anaconda3\\lib\\site-packages\\ipykernel_launcher.py:19: SettingWithCopyWarning: \n",
      "A value is trying to be set on a copy of a slice from a DataFrame.\n",
      "Try using .loc[row_indexer,col_indexer] = value instead\n",
      "\n",
      "See the caveats in the documentation: http://pandas.pydata.org/pandas-docs/stable/indexing.html#indexing-view-versus-copy\n",
      "C:\\Users\\Richpat\\Anaconda3\\lib\\site-packages\\ipykernel_launcher.py:20: SettingWithCopyWarning: \n",
      "A value is trying to be set on a copy of a slice from a DataFrame.\n",
      "Try using .loc[row_indexer,col_indexer] = value instead\n",
      "\n",
      "See the caveats in the documentation: http://pandas.pydata.org/pandas-docs/stable/indexing.html#indexing-view-versus-copy\n"
     ]
    },
    {
     "data": {
      "image/png": "[encoded data removed]",
      "text/plain": [
       "<Figure size 864x504 with 1 Axes>"
      ]
     },
     "metadata": {
      "needs_background": "light"
     },
     "output_type": "display_data"
    },
    {
     "name": "stdout",
     "output_type": "stream",
     "text": [
      "Date/time: 2019-05-23 05:58:54\n"
     ]
    }
   ],
   "source": [
    "# https://python-graph-gallery.com/10-barplot-with-number-of-observation/\n",
    "# This routine provides for standardized input\n",
    "#     rows and columns\n",
    "#     rows are individual bars that will be reported\n",
    "#     columns are: (1) index column with label (2) value that must be reported\n",
    "#\n",
    "\n",
    "PltMX=bCatTall\n",
    "PltToShow=50\n",
    "PltTitle='Count of Businesses in Category'\n",
    "\n",
    "print (PltTitle, ' ', PltMX.shape)\n",
    "print ('Date/time:', datetime.now().strftime('%Y-%m-%d %H:%M:%S'))\n",
    "\n",
    "#set PltMX (plot matrix) as input values; assumes input is in correct order\n",
    "PltMX=PltMX.head(PltToShow)\n",
    "\n",
    "#PltMX.columns = ['Count']\n",
    "PltMX['Group']=PltMX.index.astype(str) #use index as plot label\n",
    "PltMX['Label']=PltMX['Group']\n",
    "\n",
    "#prep labels\n",
    "bars=PltMX['Label']\n",
    "y_pos = np.arange(len(bars))\n",
    "height = round(PltMX['CatCnt'], 1) #show 3 decimals if we are choosing the top 20\n",
    "\n",
    "#bars\n",
    "plt.bar(y_pos, height)\n",
    "\n",
    "\n",
    "#xlabels, ylabels, title\n",
    "plt.xticks(y_pos, bars, color='blue', rotation=90)\n",
    "plt.yticks(color='blue')\n",
    "plt.title(PltTitle)\n",
    "\n",
    "# Text on the top of each barplot\n",
    "for i in range(len(height)):\n",
    "    plt.text(x = (i)-0.5 , y = height[i]+0.1, s = str(height[i]) , size = 7)\n",
    "    \n",
    "#width of display \n",
    "fig = plt.gcf()\n",
    "fig.set_size_inches( 12, 7)\n",
    "\n",
    "# Show graphic\n",
    "plt.show()\n",
    "print ('Date/time:', datetime.now().strftime('%Y-%m-%d %H:%M:%S'))"
   ]
  },
  {
   "cell_type": "code",
   "execution_count": 12,
   "metadata": {},
   "outputs": [
    {
     "name": "stdout",
     "output_type": "stream",
     "text": [
      "Date/time: 2019-05-23 05:58:54\n",
      "\n",
      "Number of businesses selected where categories of interest are in  ^restaurants|^shopping|^food|^home services|^beauty & spas  is 45567\n",
      "\n",
      "Number of businesses categories split out that are selected are 45567\n",
      "Date/time: 2019-05-23 05:59:53\n"
     ]
    }
   ],
   "source": [
    "#REDUCE businesses - select businesses in the top n categories\n",
    "#\n",
    "print ('Date/time:', datetime.now().strftime('%Y-%m-%d %H:%M:%S'))\n",
    "#pull out and create grep string for top n categories\n",
    "categoriesOFinterest=''\n",
    "numberOFcategories=5\n",
    "for x in range(numberOFcategories):\n",
    "    if x>0:\n",
    "        categoriesOFinterest=categoriesOFinterest+'|'\n",
    "    categoriesOFinterest=categoriesOFinterest + \"^\" + bCatTall.index[x]\n",
    "#bC=bCategories\n",
    "#categoriesOFinterest='^restaurants|^shopping|^food'\n",
    "#print(categoriesOFinterest)\n",
    "bIX=bCategories.apply(lambda row: row.astype(str).str.contains(categoriesOFinterest).any(), axis=1)\n",
    "OurBusinessDF=businessDF[(bIX==True)]\n",
    "OurbCategories=bCategories[(bIX==True)]\n",
    "print ('\\nNumber of businesses selected where categories of interest are in ', categoriesOFinterest, ' is', OurBusinessDF.shape[0])\n",
    "print ('\\nNumber of businesses categories split out that are selected are', OurbCategories.shape[0])\n",
    "print ('Date/time:', datetime.now().strftime('%Y-%m-%d %H:%M:%S'))"
   ]
  },
  {
   "cell_type": "code",
   "execution_count": 13,
   "metadata": {},
   "outputs": [
    {
     "name": "stdout",
     "output_type": "stream",
     "text": [
      "Date/time: 2019-05-23 05:59:53\n",
      "\n",
      "Number of AZ and NV business selected 19122\n",
      "\n",
      "Number of AZ and NV categories selected 19122\n",
      "Date/time: 2019-05-23 05:59:53\n"
     ]
    }
   ],
   "source": [
    "#Continue REDUCE businesses - select businesses in two states NV and AZ\n",
    "#\n",
    "print ('Date/time:', datetime.now().strftime('%Y-%m-%d %H:%M:%S'))\n",
    "bIX=((OurBusinessDF['state'] =='AZ') | (OurBusinessDF['state'] =='NV'))\n",
    "OurBusinessDF=OurBusinessDF[bIX==True]\n",
    "OurbCategories=OurbCategories[bIX==True]\n",
    "print (\"\\nNumber of AZ and NV business selected\", OurBusinessDF.shape[0])\n",
    "print (\"\\nNumber of AZ and NV categories selected\", OurbCategories.shape[0])\n",
    "#tmp2=OurBusinessDF[((OurBusinessDF['state'] =='AZ') | (OurBusinessDF['state'] =='NV'))]\n",
    "#OurBusinessDF=OurBusinessDF[((OurBusinessDF['state'] =='AZ') | (OurBusinessDF['state'] =='NV'))]\n",
    "#print (\"\\nNumber of AZ and NV restaurants selected\", tmp2.shape[0])\n",
    "#print (businessDFsel.head(10))\n",
    "print ('Date/time:', datetime.now().strftime('%Y-%m-%d %H:%M:%S'))"
   ]
  },
  {
   "cell_type": "code",
   "execution_count": 14,
   "metadata": {},
   "outputs": [
    {
     "name": "stdout",
     "output_type": "stream",
     "text": [
      "Created column with category header IsRestaurants for category ^restaurants which is the top 1 count 5644\n",
      "Created column with category header IsShopping for category ^shopping which is the top 2 count 3848\n",
      "Created column with category header IsFood for category ^food which is the top 3 count 2959\n",
      "Created column with category header IsHomeservices for category ^home services which is the top 4 count 3729\n",
      "Created column with category header IsBeautyspas for category ^beauty & spas which is the top 5 count 2942\n"
     ]
    }
   ],
   "source": [
    "#ENRICH businesses - identify (by column) which business is in which category\n",
    "#\n",
    "for x in range(numberOFcategories):\n",
    "#for x in range(1):\n",
    "    categoryOFinterest=\"^\" + bCatTall.index[x]\n",
    "    bIX=OurbCategories.apply(lambda row: row.astype(str).str.contains(categoryOFinterest).any(), axis=1)\n",
    "    #bCatColn='IsTopCat' + str(x+1) #column name\n",
    "    bCatColn = 'Is' + re.sub('[^a-zA-Z0-9-_*.]', '', bCatTall.index[x]).capitalize()\n",
    "    print (\"Created column with category header\", bCatColn, 'for category', categoryOFinterest, 'which is the top', x+1, 'count', bIX.sum())\n",
    "    OurBusinessDF[bCatColn]=bIX\n",
    "OurBusinessDF.to_csv('ouryelpbusinesses.csv', sep='|', header='column_names' ,encoding='utf-8') #flush buffer"
   ]
  },
  {
   "cell_type": "code",
   "execution_count": 15,
   "metadata": {},
   "outputs": [
    {
     "name": "stdout",
     "output_type": "stream",
     "text": [
      "\n",
      "                  AZ    NV\n",
      "IsRestaurants            \n",
      "False          8317  5161\n",
      "True           3398  2246\n",
      "\n",
      "               AZ    NV\n",
      "IsShopping            \n",
      "False       9385  5889\n",
      "True        2330  1518\n",
      "\n",
      "            AZ    NV\n",
      "IsFood             \n",
      "False   10001  6162\n",
      "True     1714  1245\n",
      "\n",
      "                   AZ    NV\n",
      "IsHomeservices            \n",
      "False           9265  6128\n",
      "True            2450  1279\n",
      "\n",
      "                 AZ    NV\n",
      "IsBeautyspas            \n",
      "False         9892  6288\n",
      "True          1823  1119\n"
     ]
    }
   ],
   "source": [
    "print('\\n',pd.crosstab(OurBusinessDF.IsRestaurants, OurBusinessDF.state, rownames = ['IsRestaurants'], colnames = ['']))\n",
    "print('\\n',pd.crosstab(OurBusinessDF.IsShopping, OurBusinessDF.state, rownames = ['IsShopping'], colnames = ['']))\n",
    "print('\\n',pd.crosstab(OurBusinessDF.IsFood, OurBusinessDF.state, rownames = ['IsFood'], colnames = ['']))\n",
    "print('\\n',pd.crosstab(OurBusinessDF.IsHomeservices, OurBusinessDF.state, rownames = ['IsHomeservices'], colnames = ['']))\n",
    "print('\\n',pd.crosstab(OurBusinessDF.IsBeautyspas, OurBusinessDF.state, rownames = ['IsBeautyspas'], colnames = ['']))"
   ]
  }
 ],
 "metadata": {
  "kernelspec": {
   "display_name": "Python 3",
   "language": "python",
   "name": "python3"
  },
  "language_info": {
   "codemirror_mode": {
    "name": "ipython",
    "version": 3
   },
   "file_extension": ".py",
   "mimetype": "text/x-python",
   "name": "python",
   "nbconvert_exporter": "python",
   "pygments_lexer": "ipython3",
   "version": "3.6.7"
  }
 },
 "nbformat": 4,
 "nbformat_minor": 1
}
