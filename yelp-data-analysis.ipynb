{
 "cells": [
  {
   "cell_type": "code",
   "execution_count": 1,
   "metadata": {
    "_cell_guid": "6ede3aae-1e07-414e-a202-681bbe33b001",
    "_uuid": "751b6b9893dcf8856cfee8aa6e630d34af217975"
   },
   "outputs": [],
   "source": [
    "# This Python 3 environment comes with many helpful analytics libraries installed\n",
    "import numpy as np # linear algebra\n",
    "import pandas as pd \n",
    "import seaborn as sns\n",
    "import matplotlib.pyplot as plt\n",
    "%matplotlib inline\n",
    "from matplotlib.pylab import rcParams\n",
    "rcParams['figure.figsize'] = 12, 4\n",
    "#import warnings\n",
    "#warnings.filterwarnings('ignore')\n",
    "pd.set_option('display.max_columns', 500)\n",
    "pd.set_option('display.max_columns', 100)\n",
    "# Input data files are available in the \"../input/\" directory.\n",
    "# For example, running this (by clicking run or pressing Shift+Enter) will list the files in the input directory\n",
    "\n",
    "from subprocess import check_output\n",
    "print(check_output([\"ls\", \"../input\"]).decode(\"utf8\"))\n",
    "\n",
    "# Any results you write to the current directory are saved as output."
   ]
  },
  {
   "cell_type": "code",
   "execution_count": 2,
   "metadata": {
    "_cell_guid": "9941200f-6100-43b2-b7ce-7e45ebab82cd",
    "_uuid": "dade5cd96edc3831034370a3ab4c4958c2e85167",
    "collapsed": true
   },
   "outputs": [],
   "source": [
    "business = pd.read_csv('../input/yelp_business.csv')"
   ]
  },
  {
   "cell_type": "code",
   "execution_count": 3,
   "metadata": {
    "_cell_guid": "4b1de9dd-d96d-4a38-bab5-72cef6a30a04",
    "_uuid": "1bfe91c3d64d626aa01b539d95cd700756fcee90"
   },
   "outputs": [],
   "source": [
    "business.head(5)"
   ]
  },
  {
   "cell_type": "code",
   "execution_count": 4,
   "metadata": {
    "_cell_guid": "c393b532-fdf3-4d62-9afe-556cd7b11245",
    "_uuid": "6962a818ed10726277cfa1fa92547fd2238e9417",
    "collapsed": true
   },
   "outputs": [],
   "source": [
    "business_hours = pd.read_csv(\"../input/yelp_business_hours.csv\")"
   ]
  },
  {
   "cell_type": "code",
   "execution_count": 5,
   "metadata": {
    "_cell_guid": "687bb0e2-d89c-47e4-8b3d-20392dc267fe",
    "_uuid": "e1dddd421f31a8f1885082dda783892201b1f745"
   },
   "outputs": [],
   "source": [
    "business_hours.head()"
   ]
  },
  {
   "cell_type": "code",
   "execution_count": 6,
   "metadata": {
    "_cell_guid": "072195b8-8a07-417a-a0a4-16c45822018d",
    "_uuid": "f7c5953ad7bce70224828a3bbe69e188e522117e"
   },
   "outputs": [],
   "source": [
    "business.columns"
   ]
  },
  {
   "cell_type": "code",
   "execution_count": 7,
   "metadata": {
    "_cell_guid": "474e1a09-1303-4e0d-8554-b3431478dd1b",
    "_uuid": "52690ca4a66e8153cedadc263e172587bab29e54"
   },
   "outputs": [],
   "source": [
    "business.shape"
   ]
  },
  {
   "cell_type": "code",
   "execution_count": 8,
   "metadata": {
    "_cell_guid": "220f8672-2df6-427f-baf2-576d64864861",
    "_uuid": "746f23ee0bc083676f19ba11607872bd067baf91"
   },
   "outputs": [],
   "source": [
    "#Null Values...\n",
    "business.isnull().sum().sort_values(ascending=False)"
   ]
  },
  {
   "cell_type": "code",
   "execution_count": 9,
   "metadata": {
    "_cell_guid": "3c344fee-1692-4ede-9c03-c8117255acd4",
    "_uuid": "77ecd8603e5ec3db2be1cd6337e2f6787fb34680"
   },
   "outputs": [],
   "source": [
    "#are all business Id's unique?\n",
    "business.business_id.is_unique #business_id is all unique"
   ]
  },
  {
   "cell_type": "code",
   "execution_count": 10,
   "metadata": {
    "_cell_guid": "ffe3d0ad-1d61-4726-846f-ecc47e2c36e6",
    "_uuid": "e240d37add2833c38ecff6159a82db9d31c891d8"
   },
   "outputs": [],
   "source": [
    "business.city.value_counts()"
   ]
  },
  {
   "cell_type": "markdown",
   "metadata": {
    "_cell_guid": "fd65178d-8846-4f8d-b727-cddd5aa6e628",
    "_uuid": "76b29d6c1ada18673eaeb730d05e97d3fe774a45"
   },
   "source": [
    " # Top 50 most reviewed businesses"
   ]
  },
  {
   "cell_type": "code",
   "execution_count": 11,
   "metadata": {
    "_cell_guid": "6b9c5eaf-78fc-42b7-8fd1-dddb06bd0283",
    "_uuid": "d6112f4d517b436b84e4ab1510961bf40260d27f"
   },
   "outputs": [],
   "source": [
    "business[['name', 'review_count', 'city', 'stars']].sort_values(ascending=False, by=\"review_count\")[0:50]"
   ]
  },
  {
   "cell_type": "markdown",
   "metadata": {
    "_cell_guid": "c83f2c85-c0c0-4544-b13a-2b4aa2fd7ef3",
    "_uuid": "b06aaa1de60005a0e3dc2ffd5fabd8308b86b558"
   },
   "source": [
    "\n",
    "# Number of businesses listed in different cities"
   ]
  },
  {
   "cell_type": "code",
   "execution_count": 12,
   "metadata": {
    "_cell_guid": "0dba85a1-7cf0-4d1c-9856-757fd2c382ed",
    "_uuid": "e5fd2ff5259a956fca08dd72d49a49721c894985",
    "collapsed": true
   },
   "outputs": [],
   "source": [
    "city_business_counts = business[['city', 'business_id']].groupby(['city'])\\\n",
    "['business_id'].agg('count').sort_values(ascending=False)"
   ]
  },
  {
   "cell_type": "code",
   "execution_count": 13,
   "metadata": {
    "_cell_guid": "be1df53d-eff3-4b2a-86d0-648f3aa49ba9",
    "_uuid": "181e39472e45d7cf85b3053dc8975f324a2a38d5",
    "collapsed": true
   },
   "outputs": [],
   "source": [
    "city_business_counts = pd.DataFrame(data=city_business_counts)"
   ]
  },
  {
   "cell_type": "code",
   "execution_count": 14,
   "metadata": {
    "_cell_guid": "30dc07f2-6fde-4f52-abb6-63f7747f4c7b",
    "_uuid": "e22dbd58453705341940fca4f8fef2094fca6a35",
    "collapsed": true
   },
   "outputs": [],
   "source": [
    "city_business_counts.rename(columns={'business_id' : 'number_of_businesses'}, inplace=True)"
   ]
  },
  {
   "cell_type": "code",
   "execution_count": 15,
   "metadata": {
    "_cell_guid": "1432220b-f6b2-4a60-9494-4694bb852e8f",
    "_uuid": "6b66d7f289dfe5b13afb457ca0ceb852c5c4ad6a"
   },
   "outputs": [],
   "source": [
    "city_business_counts[0:50].sort_values(ascending=False, by=\"number_of_businesses\")\\\n",
    ".plot(kind='barh', stacked=False, figsize=[10,10], colormap='winter')\n",
    "plt.title('Top 50 cities by businesses listed')"
   ]
  },
  {
   "cell_type": "markdown",
   "metadata": {
    "_cell_guid": "c52fd298-4814-41de-97e9-f92eaf2a27d0",
    "_uuid": "367e3c942eba0426582c7204514def8997fd18b4"
   },
   "source": [
    "# Cities with most reviews and best ratings for their businesses"
   ]
  },
  {
   "cell_type": "code",
   "execution_count": 16,
   "metadata": {
    "_cell_guid": "568a18a8-94a0-4776-90b4-8544b2625a6a",
    "_uuid": "ae52c3320eb4b94536fe2e818a20fb60f58ae570"
   },
   "outputs": [],
   "source": [
    "city_business_reviews = business[['city', 'review_count', 'stars']].groupby(['city']).\\\n",
    "agg({'review_count': 'sum', 'stars': 'mean'}).sort_values(by='review_count', ascending=False)\n",
    "city_business_reviews.head(10)"
   ]
  },
  {
   "cell_type": "code",
   "execution_count": 17,
   "metadata": {
    "_cell_guid": "2c131123-d072-44b0-96de-2914d61cc23c",
    "_uuid": "94f924af3971efb06ad6b5395fce8c5cae2c4cf7"
   },
   "outputs": [],
   "source": [
    "city_business_reviews['review_count'][0:50].plot(kind='barh', stacked=False, figsize=[10,10], \\\n",
    "                                                 colormap='winter')\n",
    "plt.title('Top 50 cities by reviews')"
   ]
  },
  {
   "cell_type": "code",
   "execution_count": 18,
   "metadata": {
    "_cell_guid": "c84cc09d-e291-4a4b-aa20-b0b817fe8899",
    "_uuid": "e0f4bff1634f3f70c162b56a662bd0d2addb8d09"
   },
   "outputs": [],
   "source": [
    "city_business_reviews[city_business_reviews.review_count > 50000]['stars'].sort_values()\\\n",
    ".plot(kind='barh', stacked=False, figsize=[10,10], colormap='winter')\n",
    "plt.title('Cities with greater than 50k reviews ranked by average stars')"
   ]
  },
  {
   "cell_type": "markdown",
   "metadata": {
    "_cell_guid": "474c38e4-b6b1-4003-ac91-c0a352f81b27",
    "_uuid": "3bcb528e554163912b0d9406a665067af1e21e2c"
   },
   "source": [
    "# Distribution of stars"
   ]
  },
  {
   "cell_type": "code",
   "execution_count": 19,
   "metadata": {
    "_cell_guid": "875535b3-1fc3-4c4d-bed9-6431fd354843",
    "_uuid": "4eed935ff5c98b8b3529010c589c4020886addc3"
   },
   "outputs": [],
   "source": [
    "business['stars'].value_counts()"
   ]
  },
  {
   "cell_type": "code",
   "execution_count": 20,
   "metadata": {
    "_cell_guid": "955a9a21-14c6-4d9c-8c6b-b15e202b83b0",
    "_uuid": "4b726086cd72ab7b4c4708568fef66211167b6b4"
   },
   "outputs": [],
   "source": [
    "sns.distplot(business.stars, kde=False)"
   ]
  },
  {
   "cell_type": "markdown",
   "metadata": {
    "_cell_guid": "e4614d77-9ea0-488e-b516-4f0a1e63c114",
    "_uuid": "096f5326d72053320d5bd6748d6c2b4f5b505eba"
   },
   "source": [
    "# How many are open and how many closed?"
   ]
  },
  {
   "cell_type": "code",
   "execution_count": 21,
   "metadata": {
    "_cell_guid": "a61e99de-f2bc-4640-ad41-565b7368197c",
    "_uuid": "ac6cdc51777787388f9987c6d33bdd4bdc1029ef"
   },
   "outputs": [],
   "source": [
    "business['is_open'].value_counts()"
   ]
  },
  {
   "cell_type": "markdown",
   "metadata": {
    "_cell_guid": "1f177da1-5ea8-41e3-aace-bedfb68693f7",
    "_uuid": "1c092ff1bf13468a28b2c2ac64c8963b63929ab1"
   },
   "source": [
    "# Lets look into user tips on businesses before looking at reviews"
   ]
  },
  {
   "cell_type": "code",
   "execution_count": 22,
   "metadata": {
    "_cell_guid": "91071c3c-d5b2-4714-89a4-9c9c803157b3",
    "_uuid": "c81d85ae9ce201a7b45afe3170d3ba8bb29a24f7",
    "collapsed": true
   },
   "outputs": [],
   "source": [
    "tip = pd.read_csv('../input/yelp_tip.csv')"
   ]
  },
  {
   "cell_type": "code",
   "execution_count": 23,
   "metadata": {
    "_cell_guid": "3062770b-69d3-4ceb-b807-733d7d0fcfab",
    "_uuid": "e9beea11b310a9a4cf25095a3d772150a578fb91"
   },
   "outputs": [],
   "source": [
    "tip.head(10)"
   ]
  },
  {
   "cell_type": "code",
   "execution_count": 24,
   "metadata": {
    "_cell_guid": "d94ea452-d5a7-4f29-baa7-ba61281b8c09",
    "_uuid": "de5080018b498acf919b5b545422b702830410a4"
   },
   "outputs": [],
   "source": [
    "tip.shape"
   ]
  },
  {
   "cell_type": "markdown",
   "metadata": {
    "_cell_guid": "a5075ffd-369e-42c7-969e-62205a1548f3",
    "_uuid": "6fd33b4e81825ea90e472130945ff5b498664e26"
   },
   "source": [
    "# How many of the selected words are used in the user tips?"
   ]
  },
  {
   "cell_type": "code",
   "execution_count": 25,
   "metadata": {
    "_cell_guid": "625cde1d-0c8e-47c7-ae62-eb74165882bc",
    "_uuid": "c78e70fe4e41026c539e7f2b37b9fd6c07b56b1b"
   },
   "outputs": [],
   "source": [
    "selected_words = ['awesome', 'great', 'fantastic', 'amazing', 'love', 'horrible', 'bad', 'terrible', \n",
    "                  'awful', 'wow', 'hate']\n",
    "selected_words\n"
   ]
  },
  {
   "cell_type": "code",
   "execution_count": 26,
   "metadata": {
    "_cell_guid": "b11e4c01-ba3c-4a06-9e1d-11bd6ffc6750",
    "_uuid": "2f64aca2c8519988f939d0f2d003df937853e287"
   },
   "outputs": [],
   "source": [
    "from sklearn.feature_extraction.text import CountVectorizer\n",
    "vectorizer = CountVectorizer(vocabulary=selected_words, lowercase=False)\n",
    "#corpus = ['This is the first document.','This is the second second document.']\n",
    "#print corpus\n",
    "selected_word_count = vectorizer.fit_transform(tip['text'].values.astype('U'))\n",
    "vectorizer.get_feature_names()"
   ]
  },
  {
   "cell_type": "code",
   "execution_count": 27,
   "metadata": {
    "_cell_guid": "ff43d3b9-da41-49bf-8df3-b263ea29ddb1",
    "_uuid": "e34cbd28d1c68861ee7e292747a20d938adda5c7"
   },
   "outputs": [],
   "source": [
    "word_count_array = selected_word_count.toarray()\n",
    "word_count_array.shape"
   ]
  },
  {
   "cell_type": "code",
   "execution_count": 28,
   "metadata": {
    "_cell_guid": "eaa5ce82-8e11-4229-9b28-07226c8f3e3a",
    "_uuid": "b72dc62003cb7c5f9e529f00ada3414599030964"
   },
   "outputs": [],
   "source": [
    "word_count_array.sum(axis=0)"
   ]
  },
  {
   "cell_type": "code",
   "execution_count": 29,
   "metadata": {
    "_cell_guid": "4f900cad-9d80-4aba-a5ed-bb901a5a2eae",
    "_uuid": "3a1596257eeba9e25777a0054d37732b27c1e46c",
    "collapsed": true
   },
   "outputs": [],
   "source": [
    "temp = pd.DataFrame(index=vectorizer.get_feature_names(), \\\n",
    "                    data=word_count_array.sum(axis=0)).rename(columns={0: 'Count'})"
   ]
  },
  {
   "cell_type": "code",
   "execution_count": 30,
   "metadata": {
    "_cell_guid": "be12e732-1a3e-4386-ba20-1cded2fffba4",
    "_uuid": "5715579a7b276ad955655ba38ab307d88610dbe5"
   },
   "outputs": [],
   "source": [
    "temp.plot(kind='bar', stacked=False, figsize=[7,7], colormap='winter')"
   ]
  },
  {
   "cell_type": "markdown",
   "metadata": {
    "_cell_guid": "852fbb19-29ac-49db-954f-0114ac5cc5b6",
    "_uuid": "06fe1c69c0243e7864fb1a5a12dd85be597a7cb0"
   },
   "source": [
    "We see that most of the tips are positive rather than negative!\n",
    "# Lets look at one restaurant with high star rating and one with low star rating and see what the user tips look like\n",
    "## Lets look at \"Earl of Sandwich\" restaurant in Las Vegas which has 4.5 rating"
   ]
  },
  {
   "cell_type": "code",
   "execution_count": 31,
   "metadata": {
    "_cell_guid": "dbe9717e-21fd-496f-ba8e-c82e7c9a3123",
    "_uuid": "aa55b058fec778393205a056a4083709edeebfb7"
   },
   "outputs": [],
   "source": [
    "business[(business['city'] == 'Las Vegas') & (business['stars'] == 4.5)]"
   ]
  },
  {
   "cell_type": "code",
   "execution_count": 32,
   "metadata": {
    "_cell_guid": "448f7df1-2b98-47e7-8c53-5a8d6519e147",
    "_uuid": "2b1fa590cf2e4b515ebdeb0cfeb8901855119dbc"
   },
   "outputs": [],
   "source": [
    "business[business.name=='\"Earl of Sandwich\"']"
   ]
  },
  {
   "cell_type": "markdown",
   "metadata": {
    "_cell_guid": "9095a98c-56b1-4d07-8350-b81f8bc34b27",
    "_uuid": "13193a2297124fca3b785ef84f12c8edb00d6e85"
   },
   "source": [
    "- Points to remember:\n",
    "    1. There are 4 branches\n",
    "    2. Two of them are on the strip\n",
    "    3. Since there are multiple, lets pick by index"
   ]
  },
  {
   "cell_type": "code",
   "execution_count": 33,
   "metadata": {
    "_cell_guid": "b475fbae-a5ad-4de1-86e8-6d9706308119",
    "_uuid": "f211492b76b8f172edb55a6ef3c614d0954655bb"
   },
   "outputs": [],
   "source": [
    "# This is where  have been to :)\n",
    "business.loc[139699,:]"
   ]
  },
  {
   "cell_type": "code",
   "execution_count": 34,
   "metadata": {
    "_cell_guid": "e2387acc-6675-4b7c-b03b-277a33270b78",
    "_uuid": "3ebfa0e532f977500bb96975fe120540084db3a0",
    "collapsed": true
   },
   "outputs": [],
   "source": [
    "earl_of_sandwich = tip[tip.business_id==business.loc[139699,:].business_id]"
   ]
  },
  {
   "cell_type": "code",
   "execution_count": 35,
   "metadata": {
    "_cell_guid": "37d0078d-6e15-4b74-a74f-4ce0f46af19b",
    "_uuid": "c50366aa92de3a0c9bfedd36a3c8f8ba2b19f170",
    "collapsed": true
   },
   "outputs": [],
   "source": [
    "earl_of_sandwich_selected_word_count = \\\n",
    "vectorizer.fit_transform(earl_of_sandwich['text'].values.astype('U'))"
   ]
  },
  {
   "cell_type": "code",
   "execution_count": 36,
   "metadata": {
    "_cell_guid": "93897556-3298-41f9-966f-1fb561000d84",
    "_uuid": "8c8a09dc1db9043e708f4bcac0a957fff3ee4805"
   },
   "outputs": [],
   "source": [
    "word_count_array = earl_of_sandwich_selected_word_count.toarray()\n",
    "temp = pd.DataFrame(index=vectorizer.get_feature_names(), \\\n",
    "                    data=word_count_array.sum(axis=0)).rename(columns={0: 'Count'})\n",
    "temp"
   ]
  },
  {
   "cell_type": "code",
   "execution_count": 37,
   "metadata": {
    "_cell_guid": "cfd4f22f-4b2e-42f0-bd4e-cd14f6cefb47",
    "_uuid": "d3114afa14ae4b952feecb7fa5a200f6d5798c1b"
   },
   "outputs": [],
   "source": [
    "temp.plot(kind='bar', stacked=False, figsize=[7,7], colormap='winter')"
   ]
  },
  {
   "cell_type": "markdown",
   "metadata": {
    "_cell_guid": "0e42f7c8-cbcf-47a1-b330-df2b6718a217",
    "_uuid": "f9f251d2e96627654679f0e7718461c603dff525",
    "collapsed": true
   },
   "source": [
    "We can see that the tips are mostly positive!"
   ]
  },
  {
   "cell_type": "code",
   "execution_count": 38,
   "metadata": {
    "_cell_guid": "c2869bfa-a06c-4995-b8c9-05ac293c97f4",
    "_uuid": "ae5cddb8a5d65a98fb5d8a6ad95c0f59e57cab91"
   },
   "outputs": [],
   "source": [
    "business[['name', 'review_count', 'city', 'stars']]\\\n",
    "[business.review_count>1000].sort_values(ascending=True, by=\"stars\")[0:15]"
   ]
  },
  {
   "cell_type": "markdown",
   "metadata": {
    "_cell_guid": "df0cefbd-fbb5-4eac-978c-e5ba34bd88a8",
    "_uuid": "a51142cea880e73a36283cb28543059e627253fc"
   },
   "source": [
    "**Lets look into Luxor Hotel and Casino Las Vegas which has a 2.5 star**"
   ]
  },
  {
   "cell_type": "code",
   "execution_count": 39,
   "metadata": {
    "_cell_guid": "9eb0a1bf-4d9f-4539-ac05-630f75f109e1",
    "_uuid": "58cf16751129c13fe7d76714069feb89fbc627e4"
   },
   "outputs": [],
   "source": [
    "business[business['name'] == '\"Luxor Hotel and Casino Las Vegas\"']"
   ]
  },
  {
   "cell_type": "code",
   "execution_count": 40,
   "metadata": {
    "_cell_guid": "19ea91da-3e80-4679-bf2f-0b4aa4243a5d",
    "_uuid": "bcb2f0e35f704a62af9dffbb253ed78fd8de85c8"
   },
   "outputs": [],
   "source": [
    "luxor_hotel = tip[tip.business_id==business.loc[6670,:].business_id]\n",
    "luxor_hotel.info()"
   ]
  },
  {
   "cell_type": "code",
   "execution_count": 41,
   "metadata": {
    "_cell_guid": "d7f5dfc7-a899-4cc3-9463-46b73ce7fa16",
    "_uuid": "46a4e4d4832d8ea3fad74995ae59ac2d6a79ff8b",
    "collapsed": true
   },
   "outputs": [],
   "source": [
    "luxor_hotel_selected_word_count = vectorizer.fit_transform(luxor_hotel['text'].values.astype('U'))"
   ]
  },
  {
   "cell_type": "code",
   "execution_count": 42,
   "metadata": {
    "_cell_guid": "53fae94f-5032-496b-8be1-7dd0a2aa1630",
    "_uuid": "2b20620878cdbb911c2179e3be554ac57970eaef",
    "collapsed": true
   },
   "outputs": [],
   "source": [
    "word_count_array = luxor_hotel_selected_word_count.toarray()\n",
    "temp = pd.DataFrame(index=vectorizer.get_feature_names(), \\\n",
    "                    data=word_count_array.sum(axis=0)).rename(columns={0: 'Count'})"
   ]
  },
  {
   "cell_type": "code",
   "execution_count": 43,
   "metadata": {
    "_cell_guid": "930c4cfa-b3e7-4aca-8859-3376cf7031ab",
    "_uuid": "466a5b6c5c55093396860929fc5de6e9ba2f0c76"
   },
   "outputs": [],
   "source": [
    "temp.plot(kind='bar', stacked=False, figsize=[10,5], colormap='winter')"
   ]
  },
  {
   "cell_type": "markdown",
   "metadata": {
    "_cell_guid": "f59d2f4a-53fb-44bd-a5c9-9545a5983cbb",
    "_uuid": "ac252674ce9f94e5494b5d40e80e4f72b1c6feef"
   },
   "source": [
    "This has more positive words than negative, so the user tips for this restaurant are not very predictive of its star! This might make sense because while users write good and bad reviews, tips are naturally like to be what they liked and therefore positive!\n",
    "# Lets look into user reviews"
   ]
  },
  {
   "cell_type": "code",
   "execution_count": 44,
   "metadata": {
    "_cell_guid": "7cd8406d-f100-44f8-b344-4bd9ad4bbcf8",
    "_uuid": "048e37d7cf5b65a8da3786cd8ee0b17e9e5149bc",
    "collapsed": true
   },
   "outputs": [],
   "source": [
    "reviews = pd.read_csv('../input/yelp_review.csv')"
   ]
  },
  {
   "cell_type": "code",
   "execution_count": 45,
   "metadata": {
    "_cell_guid": "8730d213-7866-4188-adfb-7d48edb395eb",
    "_uuid": "917472ae1225c12436a9efdf7e6f680d5e675028"
   },
   "outputs": [],
   "source": [
    "reviews.shape, tip.shape #there are 5.26 million reviews! 1 million tips"
   ]
  },
  {
   "cell_type": "code",
   "execution_count": 46,
   "metadata": {
    "_cell_guid": "aec2eec5-1b3d-46f0-8318-0b8461b0dbbe",
    "_uuid": "843bd08a4cb257b12fe0a0a4a88b490a715ef106"
   },
   "outputs": [],
   "source": [
    "reviews.head(5)"
   ]
  },
  {
   "cell_type": "code",
   "execution_count": 47,
   "metadata": {
    "_cell_guid": "09af4271-1b26-4e9c-9c97-6b057b4697b4",
    "_uuid": "b9586d534f12473b203ef8d169b5264ed7d85470"
   },
   "outputs": [],
   "source": [
    "tip.head()"
   ]
  },
  {
   "cell_type": "markdown",
   "metadata": {
    "_cell_guid": "9b8bca79-4b2d-4b91-9580-fb69ca80d1c8",
    "_uuid": "0270b7d1497936a1349d3b30977c53207cfdaa58"
   },
   "source": [
    "# How many of these restaurants serve Japanese food? Lets find out based on reviews!"
   ]
  },
  {
   "cell_type": "code",
   "execution_count": 48,
   "metadata": {
    "_cell_guid": "39a1d486-ba11-4d09-8f4f-28244bc82eac",
    "_uuid": "e79061ff1d6d70ca2118a01b95b80417bbd06e13",
    "collapsed": true
   },
   "outputs": [],
   "source": [
    "selected_words = ['sushi', 'miso', 'teriyaki', 'tempura', 'udon', \\\n",
    "                  'soba', 'ramen', 'yakitori', 'izakaya']"
   ]
  },
  {
   "cell_type": "markdown",
   "metadata": {
    "_cell_guid": "f5faad66-3c28-4cc7-b5be-f135eb6aa56d",
    "_uuid": "25db28911b44cb359ead6abfee07efb702d36df8"
   },
   "source": [
    "\n",
    "**Lets take subset of reviews since there are so many**"
   ]
  },
  {
   "cell_type": "code",
   "execution_count": null,
   "metadata": {
    "_cell_guid": "bdbaa446-a219-4127-863d-8a152fadd67e",
    "_uuid": "6556612f286d25c772bf58993f4399e41f887700",
    "collapsed": true
   },
   "outputs": [],
   "source": []
  },
  {
   "cell_type": "code",
   "execution_count": null,
   "metadata": {
    "_cell_guid": "0a84a061-48b2-4948-88a2-0b8eca971f38",
    "_uuid": "f9f7a86d5935a68e4fe2b8ef0e137e7d4b32e1d3",
    "collapsed": true
   },
   "outputs": [],
   "source": []
  },
  {
   "cell_type": "markdown",
   "metadata": {
    "_cell_guid": "166eeb77-1566-42eb-b378-c369cb6fc9af",
    "_uuid": "141b3aeee9e196c2b8ac5ed8e77dad4791fb04cd"
   },
   "source": [
    "**More data analysis and data science to follow in this and other notebooks!! :)**"
   ]
  },
  {
   "cell_type": "code",
   "execution_count": null,
   "metadata": {
    "_cell_guid": "c03910b1-bb94-4992-ae26-e7f25a5e33fc",
    "_uuid": "fb3b8b09e2d32e9e69ade4075a06f41316a8e6d2",
    "collapsed": true
   },
   "outputs": [],
   "source": []
  }
 ],
 "metadata": {
  "kernelspec": {
   "display_name": "Python 3",
   "language": "python",
   "name": "python3"
  },
  "language_info": {
   "codemirror_mode": {
    "name": "ipython",
    "version": 3
   },
   "file_extension": ".py",
   "mimetype": "text/x-python",
   "name": "python",
   "nbconvert_exporter": "python",
   "pygments_lexer": "ipython3",
   "version": "3.6.8"
  }
 },
 "nbformat": 4,
 "nbformat_minor": 1
}
