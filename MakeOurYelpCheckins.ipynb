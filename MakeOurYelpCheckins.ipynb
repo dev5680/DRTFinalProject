{
 "cells": [
  {
   "cell_type": "code",
   "execution_count": 1,
   "metadata": {},
   "outputs": [
    {
     "data": {
      "text/plain": [
       "'2019-05-28 12:20:37'"
      ]
     },
     "execution_count": 1,
     "metadata": {},
     "output_type": "execute_result"
    }
   ],
   "source": [
    "##create ouryelpcheckins.csv (DF) from checkins.json (reduce by ourbusinesses.csv)\n",
    "##\n",
    "##Input:  yelp file checkins.json\n",
    "##output: ouryelpcheckins.csv\n",
    "##filter: filtered list of businesses in ouryelpbusinesses    \n",
    "\n",
    "## Import packages\n",
    "\n",
    "import pandas as pd\n",
    "import numpy as np\n",
    "import matplotlib.pyplot as plt\n",
    "import seaborn as sns\n",
    "import json\n",
    "import types\n",
    "import re\n",
    "#import ijson\n",
    "\n",
    "import os\n",
    "from datetime import datetime\n",
    "\n",
    "%matplotlib inline\n",
    "##\n",
    "\n",
    "datetime.now().strftime('%Y-%m-%d %H:%M:%S')"
   ]
  },
  {
   "cell_type": "code",
   "execution_count": 2,
   "metadata": {},
   "outputs": [],
   "source": [
    "# !pip install pyspark"
   ]
  },
  {
   "cell_type": "code",
   "execution_count": 3,
   "metadata": {},
   "outputs": [],
   "source": [
    "# !pip install ijson"
   ]
  },
  {
   "cell_type": "code",
   "execution_count": 4,
   "metadata": {},
   "outputs": [
    {
     "name": "stdout",
     "output_type": "stream",
     "text": [
      "Current Working Directory  c:\\Users\\Richpat\\Documents\\@syracuse coursework\\@IST 718 Big Data Analytics (Python)\\finalproject\n",
      "\n",
      "Files in directory ['.ipynb_checkpoints', '16zpallnoagi.csv', '16zpdoc.doc', '2016_Historical_Business_File_Layout.xlsx', 'aclImdb_v1', 'aclImdb_v1.tar', 'aclImdb_v1.tar.gz', 'b.2.1_41473_project_checkpoint_1_clean.pdf', 'b.4.1_41474_project_checkpoint_2_clean.pdf', 'bCatTall.csv', 'business.json', 'BusinessCategoryCount.csv', 'checkin.json', 'Dataset_Challenge_Dataset_Agreement.pdf', 'DBHArizona164RestaurantsHighRisk.csv', 'DBHArizona164RestaurantsLowGT9.csv', 'DBHArizona164RestaurantsLowLT10.csv', 'DBHArizona164RestaurantsMediumGT6.csv', 'DBHArizona164RestaurantsMediumLT7.csv', 'DBHArizona164RestaurantsNARisk.csv', 'DBHNevada164RestaurantsHighRisk.csv', 'DBHNevada164RestaurantsLowRisk.csv', 'DBHNevada164RestaurantsMediumRisk.csv', 'DBHNevada164RestaurantsNARisk.csv', 'DBHRestaurants.csv', 'DBHRestaurantsSource.zip', 'DescribeYelpData.ipynb', 'DRT_IST718_FinalProject_ReadJSON.rmd', 'DRT_Thinking_draft.pptx', 'MakeOurDBHRestaurantData.rmd', 'MakeOurIRS2016Data.ipynb', 'MakeOurYelpBusinesses.ipynb', 'MakeOurYelpCheckins.ipynb', 'MakeOurYelpReviews.ipynb', 'MakeOurYelpTips.ipynb', 'MakeOurYelpUsers.ipynb', 'ourIRS2016byzip.csv', 'ourreviews.csv', 'ouryelpbusinesses.csv', 'ouryelpcheckins.csv', 'ouryelpreviews.csv', 'ouryelpreviews.zip', 'ouryelptipsbybusiness.csv', 'ouryelptipsbyuser.csv', 'ouryelpusers.csv', 'Paterson_.Week5ProjectCheckIn.docx', 'Paterson_.Week7ProjectCheckIn.docx', 'photo.json', 'projectDatasets.xlsx', 'review.json', 'reviewdf101.csv', 'reviewdf101k.csv', 'reviewdf101n.csv', 'ReviewFilterTimer.xlsx', 'rs_marketline_advantage_2019517_1.xls', 'rs_marketline_advantage_2019517_2.xls', 'SparkSample.txt', 'tip.json', 'user.json', 'Week7ProjectCheckin.PNG', 'yelp-dataset-agreement.pdf', 'YelpDataDictionary.xlsx', 'yelp_dataset.tar', 'Yelp_Dataset_Challenge_Round_13.pdf', '~$DRT_Thinking_draft.pptx', '~$YelpDataDictionary.xlsx']\n",
      "\n",
      "\n",
      "{'system': {'commit': None, 'python': '3.6.7.final.0', 'python-bits': 64, 'OS': 'Windows', 'OS-release': '10', 'machine': 'AMD64', 'processor': 'Intel64 Family 6 Model 142 Stepping 10, GenuineIntel', 'byteorder': 'little', 'LC_ALL': 'None', 'LANG': 'None', 'LOCALE': 'None.None'}, 'dependencies': {'pandas': '0.24.2', 'pytest': '4.4.1', 'pip': '19.1', 'setuptools': '41.0.1', 'Cython': '0.29.7', 'numpy': '1.16.3', 'scipy': '1.2.1', 'pyarrow': None, 'xarray': None, 'IPython': '7.5.0', 'sphinx': '2.0.1', 'patsy': '0.5.1', 'dateutil': '2.8.0', 'pytz': '2019.1', 'blosc': None, 'bottleneck': None, 'tables': None, 'numexpr': None, 'feather': None, 'matplotlib': '3.0.3', 'openpyxl': '2.6.1', 'xlrd': '1.2.0', 'xlwt': '1.3.0', 'xlsxwriter': '1.1.7', 'lxml.etree': '4.3.3', 'bs4': '4.7.1', 'html5lib': '1.0.1', 'sqlalchemy': '1.3.2', 'pymysql': None, 'psycopg2': None, 'jinja2': '2.10.1', 's3fs': None, 'fastparquet': None, 'pandas_gbq': None, 'pandas_datareader': None, 'gcsfs': None}}\n",
      "\n",
      "Start date/time 2019-05-28 12:20:40\n"
     ]
    }
   ],
   "source": [
    "#setup environment\n",
    "import os\n",
    "cwd = os.getcwd()\n",
    "print(\"Current Working Directory \" , cwd)\n",
    "os.chdir(\"C:/Users/Richpat/Documents/@syracuse coursework/@IST 718 Big Data Analytics (Python)/finalproject\")\n",
    "print('\\nFiles in directory', os.listdir())\n",
    "print('\\n')\n",
    "pd.show_versions(as_json=True) # True to shorten/flatten output\n",
    "print ('\\nStart date/time', datetime.now().strftime('%Y-%m-%d %H:%M:%S'))"
   ]
  },
  {
   "cell_type": "code",
   "execution_count": 5,
   "metadata": {},
   "outputs": [],
   "source": [
    "def readJSONreturnLIST (fn, verbosity):\n",
    "\n",
    "    print ('Start readJSONreturnLIST for ', fn, 'at date/time', datetime.now().strftime('%Y-%m-%d %H:%M:%S'))\n",
    "    \n",
    "    with open(fn, encoding='utf-8') as json_file:      \n",
    "        data = json_file.readlines()\n",
    "        # this line below may take at least 8-10 minutes of processing for 4-5 million rows. It converts all strings in list to actual json objects. \n",
    "        data = list(map(json.loads, data)) \n",
    "        \n",
    "    print ('Type data', type(data), 'len data', len(data))\n",
    "        \n",
    "    print ('Start readJSONreturnLIST date/time', datetime.now().strftime('%Y-%m-%d %H:%M:%S'))\n",
    "\n",
    "    return (data)"
   ]
  },
  {
   "cell_type": "code",
   "execution_count": 6,
   "metadata": {},
   "outputs": [
    {
     "name": "stdout",
     "output_type": "stream",
     "text": [
      "Start date/time: 2019-05-28 12:20:40\n",
      "Start readJSONreturnLIST for  checkin.json at date/time 2019-05-28 12:20:40\n",
      "Type data <class 'list'> len data 161950\n",
      "Start readJSONreturnLIST date/time 2019-05-28 12:20:42\n",
      "\n",
      "Number of elements 161950\n",
      "End date/time: 2019-05-28 12:20:42\n"
     ]
    }
   ],
   "source": [
    "# read in full business.json files (excluding review.json - see later for that)\n",
    "\n",
    "print ('Start date/time:', datetime.now().strftime('%Y-%m-%d %H:%M:%S'))\n",
    "checkins=readJSONreturnLIST ('checkin.json', 2)\n",
    "print ('\\nNumber of elements', len(checkins))\n",
    "print ('End date/time:', datetime.now().strftime('%Y-%m-%d %H:%M:%S'))"
   ]
  },
  {
   "cell_type": "code",
   "execution_count": 7,
   "metadata": {},
   "outputs": [
    {
     "name": "stdout",
     "output_type": "stream",
     "text": [
      "Date/time: 2019-05-28 12:20:42\n",
      "Sample of checkin data\n",
      "=======================\n",
      "{'business_id': '--1UhMGODdWsrMastO9DZw', 'date': '2016-04-26 19:49:16, 2016-08-30 18:36:57, 2016-10-15 02:45:18, 2016-11-18 01:54:50, 2017-04-20 18:39:06, 2017-05-03 17:58:02'}\n",
      "business ID --1UhMGODdWsrMastO9DZw\n",
      "date 2016-04-26 19:49:16, 2016-08-30 18:36:57, 2016-10-15 02:45:18, 2016-11-18 01:54:50, 2017-04-20 18:39:06, 2017-05-03 17:58:02\n",
      "{\n",
      "    \"business_id\": \"--1UhMGODdWsrMastO9DZw\",\n",
      "    \"date\": \"2016-04-26 19:49:16, 2016-08-30 18:36:57, 2016-10-15 02:45:18, 2016-11-18 01:54:50, 2017-04-20 18:39:06, 2017-05-03 17:58:02\"\n",
      "}\n",
      "Number of checkins counted: 161950\n",
      "Date/time: 2019-05-28 12:20:42\n"
     ]
    }
   ],
   "source": [
    "print ('Date/time:', datetime.now().strftime('%Y-%m-%d %H:%M:%S'))\n",
    "rNocheckinsCnt=0\n",
    "print ('Sample of checkin data')\n",
    "print ('=======================')\n",
    "for checkin in checkins:\n",
    "    if rNocheckinsCnt==0:\n",
    "        print (checkin)\n",
    "        print ('business ID', checkin['business_id'])\n",
    "        print ('date', checkin['date'])\n",
    "        print (json.dumps(checkin, indent=4))\n",
    "    rNocheckinsCnt+=1\n",
    "print('Number of checkins counted:', rNocheckinsCnt)\n",
    "print ('Date/time:', datetime.now().strftime('%Y-%m-%d %H:%M:%S'))"
   ]
  },
  {
   "cell_type": "code",
   "execution_count": 8,
   "metadata": {},
   "outputs": [
    {
     "name": "stdout",
     "output_type": "stream",
     "text": [
      "Date/time: 2019-05-28 12:20:42\n",
      "checkinsDF data\n",
      "===============\n",
      "\n",
      "***** dtypes\n",
      "date    object\n",
      "dtype: object\n",
      "\n",
      "***** head\n",
      "                                                                     date\n",
      "business_id                                                              \n",
      "--1UhMGODdWsrMastO9DZw  2016-04-26 19:49:16, 2016-08-30 18:36:57, 2016...\n",
      "--6MefnULPED_I942VcFNA  2011-06-04 18:22:23, 2011-07-23 23:51:33, 2012...\n",
      "--7zmmkVg-IMGaXbuVd0SQ  2014-12-29 19:25:50, 2015-01-17 01:49:14, 2015...\n",
      "--8LPVSo5i0Oo61X01sV9A                                2016-07-08 16:43:30\n",
      "--9QQLMTbFzLJ_oT-ON3Xw  2010-06-26 17:39:07, 2010-08-01 20:06:21, 2010...\n",
      "\n",
      "***** describe\n",
      "                       date\n",
      "count                161950\n",
      "unique               161949\n",
      "top     2015-03-28 22:10:26\n",
      "freq                      2\n",
      "Date/time: 2019-05-28 12:20:42\n"
     ]
    }
   ],
   "source": [
    "#convert checkins to DF\n",
    "print ('Date/time:', datetime.now().strftime('%Y-%m-%d %H:%M:%S'))\n",
    "checkinsDF=pd.DataFrame(checkins)\n",
    "checkinsDF.index=checkinsDF['business_id']\n",
    "checkinsDF.drop('business_id', axis=1, inplace=True)  \n",
    "\n",
    "print(\"checkinsDF data\")\n",
    "print(\"===============\")\n",
    "\n",
    "#print(\"\\n***** isna\")\n",
    "#print(checkinsDF.isnull().sum())\n",
    "\n",
    "print(\"\\n***** dtypes\")\n",
    "print(checkinsDF.dtypes)\n",
    "\n",
    "print(\"\\n***** head\")\n",
    "print(pd.DataFrame.head(checkinsDF))\n",
    "\n",
    "print(\"\\n***** describe\")\n",
    "print(checkinsDF.describe())\n",
    "\n",
    "print ('Date/time:', datetime.now().strftime('%Y-%m-%d %H:%M:%S'))"
   ]
  },
  {
   "cell_type": "code",
   "execution_count": 9,
   "metadata": {},
   "outputs": [
    {
     "name": "stdout",
     "output_type": "stream",
     "text": [
      "Date/time: 2019-05-28 12:20:42\n",
      "Date/time: 2019-05-28 12:20:43\n",
      "OurBusinessesDF data\n",
      "====================\n",
      "\n",
      "***** head\n",
      "                        Unnamed: 0                       address  \\\n",
      "business_id                                                        \n",
      "1Dfx3zM-rW4n-31KeC8sJg          11       2450 E Indian School Rd   \n",
      "PZ-LZzSlhSe9utkQYU8pFg          17  1775 E Tropicana Ave, Ste 29   \n",
      "LB6ZyCfUzeX9OLdunHhnOQ          30        8800 W Charleston Blvd   \n",
      "HVPcIcqiJkrpD36xZFGN6g          34           3150 N Rainbow Blvd   \n",
      "0_ohldeFwysbglrTLSGM4Q          36              15224 N 59th Ave   \n",
      "\n",
      "                                                               attributes  \\\n",
      "business_id                                                                 \n",
      "1Dfx3zM-rW4n-31KeC8sJg  {'RestaurantsTakeOut': 'True', 'BusinessParkin...   \n",
      "PZ-LZzSlhSe9utkQYU8pFg  {'OutdoorSeating': 'False', 'BusinessAcceptsCr...   \n",
      "LB6ZyCfUzeX9OLdunHhnOQ  {'BusinessAcceptsCreditCards': 'True', 'Restau...   \n",
      "HVPcIcqiJkrpD36xZFGN6g  {'BusinessAcceptsCreditCards': 'True', 'ByAppo...   \n",
      "0_ohldeFwysbglrTLSGM4Q  {'ByAppointmentOnly': 'False', 'RestaurantsPri...   \n",
      "\n",
      "                                                               categories  \\\n",
      "business_id                                                                 \n",
      "1Dfx3zM-rW4n-31KeC8sJg  restaurants, breakfast & brunch, mexican, taco...   \n",
      "PZ-LZzSlhSe9utkQYU8pFg                               restaurants, italian   \n",
      "LB6ZyCfUzeX9OLdunHhnOQ  shopping, home & garden, department stores, me...   \n",
      "HVPcIcqiJkrpD36xZFGN6g  home services, real estate, financial services...   \n",
      "0_ohldeFwysbglrTLSGM4Q                             beauty & spas, barbers   \n",
      "\n",
      "                             city  \\\n",
      "business_id                         \n",
      "1Dfx3zM-rW4n-31KeC8sJg    Phoenix   \n",
      "PZ-LZzSlhSe9utkQYU8pFg  Las Vegas   \n",
      "LB6ZyCfUzeX9OLdunHhnOQ  Las Vegas   \n",
      "HVPcIcqiJkrpD36xZFGN6g  Las Vegas   \n",
      "0_ohldeFwysbglrTLSGM4Q   Glendale   \n",
      "\n",
      "                                                                    hours  \\\n",
      "business_id                                                                 \n",
      "1Dfx3zM-rW4n-31KeC8sJg  {'Monday': '7:0-0:0', 'Tuesday': '7:0-0:0', 'W...   \n",
      "PZ-LZzSlhSe9utkQYU8pFg                                                NaN   \n",
      "LB6ZyCfUzeX9OLdunHhnOQ  {'Monday': '9:0-23:0', 'Tuesday': '9:0-23:0', ...   \n",
      "HVPcIcqiJkrpD36xZFGN6g                                                NaN   \n",
      "0_ohldeFwysbglrTLSGM4Q  {'Tuesday': '9:0-17:0', 'Wednesday': '9:0-17:0...   \n",
      "\n",
      "                        is_open   latitude   longitude  \\\n",
      "business_id                                              \n",
      "1Dfx3zM-rW4n-31KeC8sJg        1  33.495194 -112.028588   \n",
      "PZ-LZzSlhSe9utkQYU8pFg        0  36.100016 -115.128528   \n",
      "LB6ZyCfUzeX9OLdunHhnOQ        1  36.161805 -115.287277   \n",
      "HVPcIcqiJkrpD36xZFGN6g        1  36.216667 -115.242027   \n",
      "0_ohldeFwysbglrTLSGM4Q        0  33.623871 -112.186448   \n",
      "\n",
      "                                              name  postal_code  review_count  \\\n",
      "business_id                                                                     \n",
      "1Dfx3zM-rW4n-31KeC8sJg                   Taco Bell      85016.0            18   \n",
      "PZ-LZzSlhSe9utkQYU8pFg  Carluccio's Tivoli Gardens      89119.0            40   \n",
      "LB6ZyCfUzeX9OLdunHhnOQ         Ross Dress for Less      89117.0            38   \n",
      "HVPcIcqiJkrpD36xZFGN6g             Bank of America      89108.0            19   \n",
      "0_ohldeFwysbglrTLSGM4Q      The Lounge Barber Shop      85306.0             6   \n",
      "\n",
      "                        stars state  IsRestaurants  IsShopping  IsFood  \\\n",
      "business_id                                                              \n",
      "1Dfx3zM-rW4n-31KeC8sJg    3.0    AZ           True       False   False   \n",
      "PZ-LZzSlhSe9utkQYU8pFg    4.0    NV           True       False   False   \n",
      "LB6ZyCfUzeX9OLdunHhnOQ    3.5    NV          False        True   False   \n",
      "HVPcIcqiJkrpD36xZFGN6g    1.5    NV          False       False   False   \n",
      "0_ohldeFwysbglrTLSGM4Q    3.5    AZ          False       False   False   \n",
      "\n",
      "                        IsHomeservices  IsBeautyspas  \n",
      "business_id                                           \n",
      "1Dfx3zM-rW4n-31KeC8sJg           False         False  \n",
      "PZ-LZzSlhSe9utkQYU8pFg           False         False  \n",
      "LB6ZyCfUzeX9OLdunHhnOQ           False         False  \n",
      "HVPcIcqiJkrpD36xZFGN6g            True         False  \n",
      "0_ohldeFwysbglrTLSGM4Q           False          True  \n"
     ]
    }
   ],
   "source": [
    "#load \"our businesses\"\n",
    "#\n",
    "print ('Date/time:', datetime.now().strftime('%Y-%m-%d %H:%M:%S'))\n",
    "OurBusinessesDF = pd.read_csv('ouryelpbusinesses.csv', sep='|', encoding='utf-8')\n",
    "OurBusinessesDF.index=OurBusinessesDF['business_id']\n",
    "OurBusinessesDF.drop('business_id', axis=1, inplace=True) \n",
    "print ('Date/time:', datetime.now().strftime('%Y-%m-%d %H:%M:%S'))\n",
    "\n",
    "print(\"OurBusinessesDF data\")\n",
    "print(\"====================\")\n",
    "\n",
    "print(\"\\n***** head\")\n",
    "print(pd.DataFrame.head(OurBusinessesDF))\n"
   ]
  },
  {
   "cell_type": "code",
   "execution_count": 18,
   "metadata": {},
   "outputs": [
    {
     "name": "stdout",
     "output_type": "stream",
     "text": [
      "\n",
      "Date/time: 2019-05-28 12:39:04\n",
      "\n",
      "Number of businesses on the OurBusinessesDF 19122\n",
      "\n",
      "Number of checkins on the checkinsDF 161950\n",
      "\n",
      "Number of checkins/businesses on the OurCheckinsDF 16089\n",
      "OurCheckinsDF data\n",
      "====================\n",
      "\n",
      "***** dtypes\n",
      "date    object\n",
      "dtype: object\n",
      "\n",
      "***** head\n",
      "                                                                     date\n",
      "business_id                                                              \n",
      "--9QQLMTbFzLJ_oT-ON3Xw  2010-06-26 17:39:07, 2010-08-01 20:06:21, 2010...\n",
      "--TcDRzRIxhvHM4DSgEuMA  2012-03-05 04:07:17, 2012-05-23 07:00:13, 2013...\n",
      "-050d_XIor1NpCuWkbIVaQ  2010-01-23 14:45:07, 2010-01-27 17:59:13, 2010...\n",
      "-0BxAGlIk5DJAGVkpqBXxg  2010-08-20 19:44:47, 2010-08-26 23:54:03, 2010...\n",
      "-0t6o9LXMVQ3aV8CHhRTnA  2016-04-20 19:59:51, 2016-04-20 22:42:56, 2016...\n",
      "\n",
      "***** describe\n",
      "                                                     date\n",
      "count                                               16089\n",
      "unique                                              16089\n",
      "top     2016-01-03 17:27:45, 2016-05-27 18:03:49, 2016...\n",
      "freq                                                    1\n",
      "\n",
      "Date/time: 2019-05-28 12:39:04\n"
     ]
    }
   ],
   "source": [
    "#Reduce the User DF to have only those users that are in the OurReviewsDF\n",
    "\n",
    "print ('\\nDate/time:', datetime.now().strftime('%Y-%m-%d %H:%M:%S'))\n",
    "OurCheckinsDF=checkinsDF.join(OurBusinessesDF,on='business_id', how='inner')\n",
    "OurCheckinsDF=pd.DataFrame(OurCheckinsDF['date'])\n",
    "print (\"\\nNumber of businesses on the OurBusinessesDF\", len(OurBusinessesDF))\n",
    "print (\"\\nNumber of checkins on the checkinsDF\", len(checkinsDF))\n",
    "print (\"\\nNumber of checkins/businesses on the OurCheckinsDF\", len(OurCheckinsDF))\n",
    "\n",
    "print(\"OurCheckinsDF data\")\n",
    "print(\"====================\")\n",
    "\n",
    "#print(\"\\n***** isna\")\n",
    "#print(OurCheckinsDF.isnull().sum())\n",
    "\n",
    "print(\"\\n***** dtypes\")\n",
    "print(OurCheckinsDF.dtypes)\n",
    "\n",
    "print(\"\\n***** head\")\n",
    "print(pd.DataFrame.head(OurCheckinsDF))\n",
    "\n",
    "print(\"\\n***** describe\")\n",
    "print(OurCheckinsDF.describe())\n",
    "\n",
    "print ('\\nDate/time:', datetime.now().strftime('%Y-%m-%d %H:%M:%S'))"
   ]
  },
  {
   "cell_type": "code",
   "execution_count": 11,
   "metadata": {},
   "outputs": [
    {
     "name": "stdout",
     "output_type": "stream",
     "text": [
      "\n",
      "Date/time: 2019-05-28 12:20:43\n",
      "\n",
      "Date/time: 2019-05-28 12:20:44\n"
     ]
    }
   ],
   "source": [
    "print ('\\nDate/time:', datetime.now().strftime('%Y-%m-%d %H:%M:%S'))\n",
    "OurCheckinsDF.to_csv(\"ouryelpcheckins.csv\", sep=\",\", encoding = 'utf-8')\n",
    "print ('\\nDate/time:', datetime.now().strftime('%Y-%m-%d %H:%M:%S'))"
   ]
  }
 ],
 "metadata": {
  "kernelspec": {
   "display_name": "Python 3",
   "language": "python",
   "name": "python3"
  },
  "language_info": {
   "codemirror_mode": {
    "name": "ipython",
    "version": 3
   },
   "file_extension": ".py",
   "mimetype": "text/x-python",
   "name": "python",
   "nbconvert_exporter": "python",
   "pygments_lexer": "ipython3",
   "version": "3.6.7"
  }
 },
 "nbformat": 4,
 "nbformat_minor": 1
}
